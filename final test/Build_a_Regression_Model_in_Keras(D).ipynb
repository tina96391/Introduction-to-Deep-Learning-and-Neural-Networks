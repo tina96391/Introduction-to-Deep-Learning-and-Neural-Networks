{
  "nbformat": 4,
  "nbformat_minor": 0,
  "metadata": {
    "colab": {
      "name": "Build a Regression Model in Keras(D).ipynb",
      "provenance": [],
      "collapsed_sections": []
    },
    "kernelspec": {
      "name": "python3",
      "display_name": "Python 3"
    }
  },
  "cells": [
    {
      "cell_type": "markdown",
      "metadata": {
        "id": "SBT_2iM0_jmj"
      },
      "source": [
        "# Start import data"
      ]
    },
    {
      "cell_type": "code",
      "metadata": {
        "colab": {
          "base_uri": "https://localhost:8080/"
        },
        "id": "aaxdftqR-hDp",
        "outputId": "4165705a-eed6-4d74-b4cf-2556bd4a3b37"
      },
      "source": [
        "import pandas as pd\r\n",
        "import numpy as np\r\n",
        "\r\n",
        "concrete_data = pd.read_csv('concrete_data.csv')\r\n",
        "concrete_data.head()\r\n",
        "concrete_data.isnull().sum()"
      ],
      "execution_count": 1,
      "outputs": [
        {
          "output_type": "execute_result",
          "data": {
            "text/plain": [
              "Cement                0\n",
              "Blast Furnace Slag    0\n",
              "Fly Ash               0\n",
              "Water                 0\n",
              "Superplasticizer      0\n",
              "Coarse Aggregate      0\n",
              "Fine Aggregate        0\n",
              "Age                   0\n",
              "Strength              0\n",
              "dtype: int64"
            ]
          },
          "metadata": {
            "tags": []
          },
          "execution_count": 1
        }
      ]
    },
    {
      "cell_type": "markdown",
      "metadata": {
        "id": "Yo13on-3_uA-"
      },
      "source": [
        "# Build a baseline model\r\n",
        "Use the Keras library to build a neural network with the following:\r\n",
        "\r\n",
        "- Three hidden layers, each of 10 nodes and ReLU activation function.\r\n",
        "\r\n",
        "- Use the **adam** optimizer and the **mean squared erro**r  as the loss function."
      ]
    },
    {
      "cell_type": "code",
      "metadata": {
        "id": "9jY5GCFw_zyH"
      },
      "source": [
        "import keras\r\n",
        "from keras.models import Sequential\r\n",
        "from keras.layers import Dense"
      ],
      "execution_count": 2,
      "outputs": []
    },
    {
      "cell_type": "code",
      "metadata": {
        "id": "ZO6aAZ5kAEBI"
      },
      "source": [
        "def regression_model():\r\n",
        "    # Three hidden layers, each of 10 nodes and ReLU activation function.\r\n",
        "\r\n",
        "    model = Sequential()\r\n",
        "    model.add(Dense(10, activation='relu', input_shape=(n_pred_cols,)))\r\n",
        "    model.add(Dense(10, activation='relu'))\r\n",
        "    model.add(Dense(10, activation='relu'))\r\n",
        "    model.add(Dense(1))\r\n",
        "    \r\n",
        "    \r\n",
        "    # compile model\r\n",
        "    model.compile(optimizer='adam', loss='mean_squared_error')\r\n",
        "    return model\r\n"
      ],
      "execution_count": 3,
      "outputs": []
    },
    {
      "cell_type": "markdown",
      "metadata": {
        "id": "aEZ82NwOAfJv"
      },
      "source": [
        "1. Randomly split the data into a training and test sets by holding **30%** of the data for testing. You can use the **train_test_splithelper function from Scikit-learn**."
      ]
    },
    {
      "cell_type": "code",
      "metadata": {
        "id": "BS9tjGpEAa3l"
      },
      "source": [
        "from sklearn.model_selection import train_test_split"
      ],
      "execution_count": 4,
      "outputs": []
    },
    {
      "cell_type": "markdown",
      "metadata": {
        "id": "Md1LLHK7HN9Y"
      },
      "source": [
        "# normalized version of the data"
      ]
    },
    {
      "cell_type": "code",
      "metadata": {
        "id": "AQRLab5RA2Bx"
      },
      "source": [
        "# we need to use Strength column as our target to predict\r\n",
        "concrete_data_columns = concrete_data.columns\r\n",
        "predictors = concrete_data[concrete_data_columns[concrete_data_columns != 'Strength']] \r\n",
        "target = concrete_data['Strength'] \r\n",
        "\r\n",
        "predictors_norm = (predictors - predictors.mean()) / predictors.std()\r\n",
        "predictors_norm.head()\r\n",
        "\r\n",
        "n_pred_cols = predictors.shape[1] # number of predictors\r\n",
        "n_pred_cols\r\n",
        "\r\n",
        "# split predictors data into training data and testing data (predictors is the column without Strength)\r\n",
        "X_train, X_test, y_train, y_test = train_test_split(predictors, target, test_size=0.3, random_state=40)"
      ],
      "execution_count": 5,
      "outputs": []
    },
    {
      "cell_type": "markdown",
      "metadata": {
        "id": "Zb7TdszuB-g3"
      },
      "source": [
        "2. Train the model on the training data using **50 epochs**."
      ]
    },
    {
      "cell_type": "code",
      "metadata": {
        "colab": {
          "base_uri": "https://localhost:8080/"
        },
        "id": "P4XIuoNSBUNo",
        "outputId": "188362a0-a721-4aa3-df0a-e1168bcf6967"
      },
      "source": [
        "model = regression_model()\r\n",
        "epochs = 50\r\n",
        "model.fit(X_train, y_train, epochs=epochs, verbose=1)"
      ],
      "execution_count": 6,
      "outputs": [
        {
          "output_type": "stream",
          "text": [
            "Epoch 1/50\n",
            "23/23 [==============================] - 1s 1ms/step - loss: 2219.4025\n",
            "Epoch 2/50\n",
            "23/23 [==============================] - 0s 1ms/step - loss: 539.7925\n",
            "Epoch 3/50\n",
            "23/23 [==============================] - 0s 1ms/step - loss: 388.6544\n",
            "Epoch 4/50\n",
            "23/23 [==============================] - 0s 2ms/step - loss: 344.5463\n",
            "Epoch 5/50\n",
            "23/23 [==============================] - 0s 1ms/step - loss: 298.4450\n",
            "Epoch 6/50\n",
            "23/23 [==============================] - 0s 1ms/step - loss: 266.0512\n",
            "Epoch 7/50\n",
            "23/23 [==============================] - 0s 1ms/step - loss: 241.7673\n",
            "Epoch 8/50\n",
            "23/23 [==============================] - 0s 1ms/step - loss: 230.5988\n",
            "Epoch 9/50\n",
            "23/23 [==============================] - 0s 1ms/step - loss: 228.0722\n",
            "Epoch 10/50\n",
            "23/23 [==============================] - 0s 1ms/step - loss: 218.3404\n",
            "Epoch 11/50\n",
            "23/23 [==============================] - 0s 1ms/step - loss: 208.9269\n",
            "Epoch 12/50\n",
            "23/23 [==============================] - 0s 1ms/step - loss: 196.2973\n",
            "Epoch 13/50\n",
            "23/23 [==============================] - 0s 1ms/step - loss: 198.5449\n",
            "Epoch 14/50\n",
            "23/23 [==============================] - 0s 1ms/step - loss: 185.2406\n",
            "Epoch 15/50\n",
            "23/23 [==============================] - 0s 1ms/step - loss: 186.9884\n",
            "Epoch 16/50\n",
            "23/23 [==============================] - 0s 1ms/step - loss: 167.2146\n",
            "Epoch 17/50\n",
            "23/23 [==============================] - 0s 1ms/step - loss: 170.5519\n",
            "Epoch 18/50\n",
            "23/23 [==============================] - 0s 2ms/step - loss: 161.6943\n",
            "Epoch 19/50\n",
            "23/23 [==============================] - 0s 1ms/step - loss: 162.1023\n",
            "Epoch 20/50\n",
            "23/23 [==============================] - 0s 1ms/step - loss: 167.5534\n",
            "Epoch 21/50\n",
            "23/23 [==============================] - 0s 1ms/step - loss: 146.3549\n",
            "Epoch 22/50\n",
            "23/23 [==============================] - 0s 1ms/step - loss: 139.8665\n",
            "Epoch 23/50\n",
            "23/23 [==============================] - 0s 1ms/step - loss: 148.2250\n",
            "Epoch 24/50\n",
            "23/23 [==============================] - 0s 1ms/step - loss: 147.5079\n",
            "Epoch 25/50\n",
            "23/23 [==============================] - 0s 1ms/step - loss: 134.7845\n",
            "Epoch 26/50\n",
            "23/23 [==============================] - 0s 1ms/step - loss: 122.4145\n",
            "Epoch 27/50\n",
            "23/23 [==============================] - 0s 1ms/step - loss: 127.5625\n",
            "Epoch 28/50\n",
            "23/23 [==============================] - 0s 1ms/step - loss: 129.5362\n",
            "Epoch 29/50\n",
            "23/23 [==============================] - 0s 1ms/step - loss: 116.7981\n",
            "Epoch 30/50\n",
            "23/23 [==============================] - 0s 1ms/step - loss: 126.9439\n",
            "Epoch 31/50\n",
            "23/23 [==============================] - 0s 1ms/step - loss: 123.8203\n",
            "Epoch 32/50\n",
            "23/23 [==============================] - 0s 1ms/step - loss: 113.4496\n",
            "Epoch 33/50\n",
            "23/23 [==============================] - 0s 1ms/step - loss: 111.4594\n",
            "Epoch 34/50\n",
            "23/23 [==============================] - 0s 1ms/step - loss: 122.1260\n",
            "Epoch 35/50\n",
            "23/23 [==============================] - 0s 1ms/step - loss: 115.0501\n",
            "Epoch 36/50\n",
            "23/23 [==============================] - 0s 1ms/step - loss: 111.4079\n",
            "Epoch 37/50\n",
            "23/23 [==============================] - 0s 1ms/step - loss: 106.6631\n",
            "Epoch 38/50\n",
            "23/23 [==============================] - 0s 1ms/step - loss: 101.3389\n",
            "Epoch 39/50\n",
            "23/23 [==============================] - 0s 1ms/step - loss: 108.2871\n",
            "Epoch 40/50\n",
            "23/23 [==============================] - 0s 1ms/step - loss: 103.6430\n",
            "Epoch 41/50\n",
            "23/23 [==============================] - 0s 1ms/step - loss: 91.1705\n",
            "Epoch 42/50\n",
            "23/23 [==============================] - 0s 1ms/step - loss: 93.1894\n",
            "Epoch 43/50\n",
            "23/23 [==============================] - 0s 1ms/step - loss: 86.0287\n",
            "Epoch 44/50\n",
            "23/23 [==============================] - 0s 1ms/step - loss: 87.6266\n",
            "Epoch 45/50\n",
            "23/23 [==============================] - 0s 1ms/step - loss: 86.2627\n",
            "Epoch 46/50\n",
            "23/23 [==============================] - 0s 1ms/step - loss: 89.4645\n",
            "Epoch 47/50\n",
            "23/23 [==============================] - 0s 2ms/step - loss: 77.7861\n",
            "Epoch 48/50\n",
            "23/23 [==============================] - 0s 1ms/step - loss: 80.1128\n",
            "Epoch 49/50\n",
            "23/23 [==============================] - 0s 1ms/step - loss: 78.7569\n",
            "Epoch 50/50\n",
            "23/23 [==============================] - 0s 1ms/step - loss: 72.4090\n"
          ],
          "name": "stdout"
        },
        {
          "output_type": "execute_result",
          "data": {
            "text/plain": [
              "<tensorflow.python.keras.callbacks.History at 0x7f173783b898>"
            ]
          },
          "metadata": {
            "tags": []
          },
          "execution_count": 6
        }
      ]
    },
    {
      "cell_type": "code",
      "metadata": {
        "colab": {
          "base_uri": "https://localhost:8080/"
        },
        "id": "nF0VY8ggDn36",
        "outputId": "2cc64356-e7de-44a0-f95d-1df8c168a6fa"
      },
      "source": [
        "loss = model.evaluate(X_test, y_test)\r\n",
        "y_pred = model.predict(X_test)\r\n",
        "loss"
      ],
      "execution_count": 7,
      "outputs": [
        {
          "output_type": "stream",
          "text": [
            "10/10 [==============================] - 0s 1ms/step - loss: 102.7367\n"
          ],
          "name": "stdout"
        },
        {
          "output_type": "execute_result",
          "data": {
            "text/plain": [
              "102.7367172241211"
            ]
          },
          "metadata": {
            "tags": []
          },
          "execution_count": 7
        }
      ]
    },
    {
      "cell_type": "markdown",
      "metadata": {
        "id": "-wB_Q3J4Defr"
      },
      "source": [
        "3. Evaluate the model on the test data and compute the **mean squared error** between the predicted concrete strength and the actual concrete strength. You can use the mean_squared_error function from Scikit-learn."
      ]
    },
    {
      "cell_type": "code",
      "metadata": {
        "colab": {
          "base_uri": "https://localhost:8080/"
        },
        "id": "e6KBGICNDce2",
        "outputId": "bcdeceed-5acc-4fd2-ca64-2af66c10eda6"
      },
      "source": [
        "from sklearn.metrics import mean_squared_error\r\n",
        "\r\n",
        "mean_square_error = mean_squared_error(y_test, y_pred)\r\n",
        "mean = np.mean(mean_square_error)\r\n",
        "standard_deviation = np.std(mean_square_error)\r\n",
        "print(mean, standard_deviation)"
      ],
      "execution_count": 8,
      "outputs": [
        {
          "output_type": "stream",
          "text": [
            "102.7367147056353 0.0\n"
          ],
          "name": "stdout"
        }
      ]
    },
    {
      "cell_type": "markdown",
      "metadata": {
        "id": "D82Uc3R1EBxb"
      },
      "source": [
        "4. Repeat steps 1 - 3, 50 times, i.e., create a list of 50 mean squared errors."
      ]
    },
    {
      "cell_type": "code",
      "metadata": {
        "colab": {
          "base_uri": "https://localhost:8080/"
        },
        "id": "Zdk9h4mXEFQ4",
        "outputId": "1aefb30b-2c44-4f9a-d527-4aa880a15fca"
      },
      "source": [
        "repeat = 50\r\n",
        "epochs = 50\r\n",
        "mean_squared_errors = []\r\n",
        "for i in range(0, repeat):\r\n",
        "    X_train, X_test, y_train, y_test = train_test_split(predictors, target, test_size=0.3, random_state=i)\r\n",
        "    model.fit(X_train, y_train, epochs=epochs, verbose=0)\r\n",
        "    MSE = model.evaluate(X_test, y_test, verbose=0)\r\n",
        "    print(\"mean_squared_errors \"+str(i+1)+\": \"+str(MSE))\r\n",
        "    y_pred = model.predict(X_test)\r\n",
        "    mean_square_error = mean_squared_error(y_test, y_pred)\r\n",
        "    mean_squared_errors.append(mean_square_error)\r\n",
        "\r\n",
        "mean_squared_errors = np.array(mean_squared_errors)\r\n",
        "mean = np.mean(mean_squared_errors)\r\n",
        "standard_deviation = np.std(mean_squared_errors)\r\n",
        "\r\n",
        "print(\"Mean: \"+str(mean))\r\n",
        "print(\"Standard Deviation: \"+str(standard_deviation))\r\n",
        "print('\\n')"
      ],
      "execution_count": 9,
      "outputs": [
        {
          "output_type": "stream",
          "text": [
            "mean_squared_errors 1: 71.21405029296875\n",
            "mean_squared_errors 2: 62.59098815917969\n",
            "mean_squared_errors 3: 47.30638122558594\n",
            "mean_squared_errors 4: 47.802913665771484\n",
            "mean_squared_errors 5: 39.1929817199707\n",
            "mean_squared_errors 6: 42.958412170410156\n",
            "mean_squared_errors 7: 45.13362121582031\n",
            "mean_squared_errors 8: 39.61233139038086\n",
            "mean_squared_errors 9: 34.77840042114258\n",
            "mean_squared_errors 10: 38.44464111328125\n",
            "mean_squared_errors 11: 34.7132682800293\n",
            "mean_squared_errors 12: 37.272342681884766\n",
            "mean_squared_errors 13: 37.24258041381836\n",
            "mean_squared_errors 14: 43.52910232543945\n",
            "mean_squared_errors 15: 35.32040023803711\n",
            "mean_squared_errors 16: 40.6007194519043\n",
            "mean_squared_errors 17: 37.73777770996094\n",
            "mean_squared_errors 18: 32.95217514038086\n",
            "mean_squared_errors 19: 29.998695373535156\n",
            "mean_squared_errors 20: 32.72590637207031\n",
            "mean_squared_errors 21: 32.868446350097656\n",
            "mean_squared_errors 22: 34.2216682434082\n",
            "mean_squared_errors 23: 25.301366806030273\n",
            "mean_squared_errors 24: 29.1331729888916\n",
            "mean_squared_errors 25: 34.92512130737305\n",
            "mean_squared_errors 26: 32.712764739990234\n",
            "mean_squared_errors 27: 27.398422241210938\n",
            "mean_squared_errors 28: 27.493511199951172\n",
            "mean_squared_errors 29: 32.45145034790039\n",
            "mean_squared_errors 30: 28.84984588623047\n",
            "mean_squared_errors 31: 29.00037384033203\n",
            "mean_squared_errors 32: 28.1715087890625\n",
            "mean_squared_errors 33: 23.932861328125\n",
            "mean_squared_errors 34: 29.554813385009766\n",
            "mean_squared_errors 35: 30.68682098388672\n",
            "mean_squared_errors 36: 33.4715576171875\n",
            "mean_squared_errors 37: 23.874099731445312\n",
            "mean_squared_errors 38: 28.581525802612305\n",
            "mean_squared_errors 39: 30.37657928466797\n",
            "mean_squared_errors 40: 22.66986083984375\n",
            "mean_squared_errors 41: 29.792617797851562\n",
            "mean_squared_errors 42: 28.22262191772461\n",
            "mean_squared_errors 43: 26.832820892333984\n",
            "mean_squared_errors 44: 37.327091217041016\n",
            "mean_squared_errors 45: 26.149381637573242\n",
            "mean_squared_errors 46: 29.676700592041016\n",
            "mean_squared_errors 47: 26.142486572265625\n",
            "mean_squared_errors 48: 27.513675689697266\n",
            "mean_squared_errors 49: 30.40601348876953\n",
            "mean_squared_errors 50: 27.244678497314453\n",
            "Mean: 34.122230035757006\n",
            "Standard Deviation: 9.035168826757012\n",
            "\n",
            "\n"
          ],
          "name": "stdout"
        }
      ]
    }
  ]
}